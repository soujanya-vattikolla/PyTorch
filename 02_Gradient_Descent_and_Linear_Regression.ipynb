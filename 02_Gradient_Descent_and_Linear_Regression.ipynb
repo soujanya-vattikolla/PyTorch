{
  "cells": [
    {
      "cell_type": "markdown",
      "metadata": {
        "id": "view-in-github",
        "colab_type": "text"
      },
      "source": [
        "<a href=\"https://colab.research.google.com/github/soujanya-vattikolla/PyTorch/blob/main/02_Gradient_Descent_and_Linear_Regression.ipynb\" target=\"_parent\"><img src=\"https://colab.research.google.com/assets/colab-badge.svg\" alt=\"Open In Colab\"/></a>"
      ]
    },
    {
      "cell_type": "markdown",
      "metadata": {
        "id": "XBqj1B85mEvH"
      },
      "source": [
        "### Gradient Descent and Linear Regression with PyTorch\n",
        "\n"
      ]
    },
    {
      "cell_type": "markdown",
      "metadata": {
        "id": "Ry9_0u-PmEvZ"
      },
      "source": [
        "### Introduction to Linear Regression\n",
        "\n",
        "We'll create a model that predicts crop yields for apples and oranges (*target variables*) by looking at the average temperature, rainfall, and humidity (*input variables or features*) in a region. Here's the training data:\n",
        "\n",
        "![linear-regression-training-data](https://i.imgur.com/6Ujttb4.png)\n",
        "\n",
        "In a linear regression model, each target variable is estimated to be a weighted sum of the input variables, offset by some constant, known as a bias :\n",
        "\n",
        "```\n",
        "yield_apple  = w11 * temp + w12 * rainfall + w13 * humidity + b1\n",
        "yield_orange = w21 * temp + w22 * rainfall + w23 * humidity + b2\n",
        "```\n",
        "\n"
      ]
    },
    {
      "cell_type": "markdown",
      "metadata": {
        "id": "eTwYVEI7mEvb"
      },
      "source": [
        "The *learning* part of linear regression is to figure out a set of weights `w11, w12,... w23, b1 & b2` using the training data, to make accurate predictions for new data. The _learned_ weights will be used to predict the yields for apples and oranges in a new region using the average temperature, rainfall, and humidity for that region. \n",
        "\n",
        "We'll _train_ our model by adjusting the weights slightly many times to make better predictions, using an optimization technique called *gradient descent*. Let's begin by importing Numpy and PyTorch."
      ]
    },
    {
      "cell_type": "code",
      "execution_count": null,
      "metadata": {
        "id": "Uc7BlWtAmEvd"
      },
      "outputs": [],
      "source": [
        "import numpy as np\n",
        "import torch"
      ]
    },
    {
      "cell_type": "markdown",
      "metadata": {
        "id": "BTViX-3DmEvf"
      },
      "source": [
        "## Training data\n",
        "\n",
        "We can represent the training data using two matrices: `inputs` and `targets`, each with one row per observation, and one column per variable."
      ]
    },
    {
      "cell_type": "code",
      "execution_count": null,
      "metadata": {
        "id": "9qldibyrmEvg"
      },
      "outputs": [],
      "source": [
        "# Input (temp, rainfall, humidity)\n",
        "inputs = np.array([[73, 67, 43], \n",
        "                   [91, 88, 64], \n",
        "                   [87, 134, 58], \n",
        "                   [102, 43, 37], \n",
        "                   [69, 96, 70]], dtype='float32')"
      ]
    },
    {
      "cell_type": "code",
      "execution_count": null,
      "metadata": {
        "id": "8VdIjMM2mEvh"
      },
      "outputs": [],
      "source": [
        "# Targets (apples, oranges)\n",
        "targets = np.array([[56, 70], \n",
        "                    [81, 101], \n",
        "                    [119, 133], \n",
        "                    [22, 37], \n",
        "                    [103, 119]], dtype='float32')"
      ]
    },
    {
      "cell_type": "markdown",
      "metadata": {
        "id": "fF-7eYDomEvn"
      },
      "source": [
        "We've separated the input and target variables because we'll operate on them separately. \n",
        "\n",
        "Let's convert the arrays to PyTorch tensors."
      ]
    },
    {
      "cell_type": "code",
      "execution_count": null,
      "metadata": {
        "colab": {
          "base_uri": "https://localhost:8080/"
        },
        "id": "8F2WU4z9mEvo",
        "outputId": "506ead8b-d380-4456-ec7a-153142b1f51a"
      },
      "outputs": [
        {
          "output_type": "stream",
          "name": "stdout",
          "text": [
            "tensor([[ 73.,  67.,  43.],\n",
            "        [ 91.,  88.,  64.],\n",
            "        [ 87., 134.,  58.],\n",
            "        [102.,  43.,  37.],\n",
            "        [ 69.,  96.,  70.]])\n",
            "tensor([[ 56.,  70.],\n",
            "        [ 81., 101.],\n",
            "        [119., 133.],\n",
            "        [ 22.,  37.],\n",
            "        [103., 119.]])\n"
          ]
        }
      ],
      "source": [
        "# Convert inputs and targets to tensors\n",
        "inputs = torch.from_numpy(inputs)\n",
        "targets = torch.from_numpy(targets)\n",
        "print(inputs)\n",
        "print(targets)"
      ]
    },
    {
      "cell_type": "markdown",
      "metadata": {
        "id": "N90tvBe0mEvs"
      },
      "source": [
        "## Linear regression model from scratch\n",
        "\n",
        "The weights and biases (`w11, w12,... w23, b1 & b2`) can also be represented as matrices, initialized as random values. The first row of `w` and the first element of `b` are used to predict the first target variable, i.e., yield of apples, and similarly, the second for oranges."
      ]
    },
    {
      "cell_type": "code",
      "execution_count": null,
      "metadata": {
        "colab": {
          "base_uri": "https://localhost:8080/"
        },
        "id": "k4OOypgSmEvt",
        "outputId": "e566c0b5-2275-40bc-d9af-adb8fa4d46d1"
      },
      "outputs": [
        {
          "output_type": "stream",
          "name": "stdout",
          "text": [
            "tensor([[-1.8176,  0.2670, -0.0939],\n",
            "        [ 0.0630,  1.0642, -1.1820]], requires_grad=True)\n",
            "tensor([-1.4443,  0.3462], requires_grad=True)\n"
          ]
        }
      ],
      "source": [
        "# Weights and biases\n",
        "weigts = torch.randn(2, 3, requires_grad=True)\n",
        "biases = torch.randn(2, requires_grad=True)\n",
        "print(weigts)\n",
        "print(biases)"
      ]
    },
    {
      "cell_type": "markdown",
      "metadata": {
        "id": "JDP2swi7mEvu"
      },
      "source": [
        "`torch.randn` creates a tensor with the given shape, with elements picked randomly from a [normal distribution](https://en.wikipedia.org/wiki/Normal_distribution) with mean 0 and standard deviation 1.\n",
        "\n",
        "Our *model* is simply a function that performs a matrix multiplication of the `inputs` and the weights `w` (transposed) and adds the bias `b` (replicated for each observation).\n",
        "\n",
        "![matrix-mult](https://i.imgur.com/WGXLFvA.png)\n",
        "\n",
        "We can define the model as follows:"
      ]
    },
    {
      "cell_type": "code",
      "execution_count": null,
      "metadata": {
        "id": "3dzclnbHmEvw"
      },
      "outputs": [],
      "source": [
        "def model(x):\n",
        "    return x @ weigts.t() + biases"
      ]
    },
    {
      "cell_type": "markdown",
      "metadata": {
        "id": "KS2-LuaKmEvx"
      },
      "source": [
        "`@` represents matrix multiplication in PyTorch, and the `.t` method returns the transpose of a tensor.\n",
        "\n",
        "The matrix obtained by passing the input data into the model is a set of predictions for the target variables."
      ]
    },
    {
      "cell_type": "code",
      "execution_count": null,
      "metadata": {
        "colab": {
          "base_uri": "https://localhost:8080/"
        },
        "id": "atXtyUhNmEvz",
        "outputId": "fabffb7f-161d-4ffe-c333-49dff93b3adf"
      },
      "outputs": [
        {
          "output_type": "stream",
          "name": "stdout",
          "text": [
            "tensor([[-120.2763,   25.4169],\n",
            "        [-149.3578,   24.0757],\n",
            "        [-129.2413,   79.8688],\n",
            "        [-178.8309,    8.7953],\n",
            "        [-107.7984,   24.1112]], grad_fn=<AddBackward0>)\n"
          ]
        }
      ],
      "source": [
        "# Generate predictions\n",
        "preds = model(inputs)\n",
        "print(preds)"
      ]
    },
    {
      "cell_type": "markdown",
      "metadata": {
        "id": "UgFdR8eCmEv3"
      },
      "source": [
        "Let's compare the predictions of our model with the actual targets."
      ]
    },
    {
      "cell_type": "code",
      "execution_count": null,
      "metadata": {
        "colab": {
          "base_uri": "https://localhost:8080/"
        },
        "id": "c8WQ_gQomEv4",
        "outputId": "42695b2a-eb76-432c-a965-36f11bac381d"
      },
      "outputs": [
        {
          "output_type": "stream",
          "name": "stdout",
          "text": [
            "tensor([[ 56.,  70.],\n",
            "        [ 81., 101.],\n",
            "        [119., 133.],\n",
            "        [ 22.,  37.],\n",
            "        [103., 119.]])\n"
          ]
        }
      ],
      "source": [
        "# Compare with targets\n",
        "print(targets)"
      ]
    },
    {
      "cell_type": "markdown",
      "metadata": {
        "id": "4cxM9a9hmEv4"
      },
      "source": [
        "You can see a big difference between our model's predictions and the actual targets because we've initialized our model with random weights and biases. Obviously, we can't expect a randomly initialized model to *just work*."
      ]
    },
    {
      "cell_type": "markdown",
      "metadata": {
        "id": "z8lISp-5mEv5"
      },
      "source": [
        "## Loss function\n",
        "\n",
        "Before we improve our model, we need a way to evaluate how well our model is performing. We can compare the model's predictions with the actual targets using the following method:\n",
        "\n",
        "* Calculate the difference between the two matrices (`preds` and `targets`).\n",
        "* Square all elements of the difference matrix to remove negative values.\n",
        "* Calculate the average of the elements in the resulting matrix.\n",
        "\n",
        "The result is a single number, known as the **mean squared error** (MSE)."
      ]
    },
    {
      "cell_type": "code",
      "execution_count": null,
      "metadata": {
        "id": "mM4UYsJsmEv6"
      },
      "outputs": [],
      "source": [
        "# MSE loss\n",
        "def mse(prediction, target):\n",
        "    diff = preds - targets\n",
        "    return torch.sum(diff * diff) / diff.numel()"
      ]
    },
    {
      "cell_type": "markdown",
      "metadata": {
        "id": "27BKNQDImEv8"
      },
      "source": [
        "`torch.sum` returns the sum of all the elements in a tensor. The `.numel` method of a tensor returns the number of elements in a tensor. Let's compute the mean squared error for the current predictions of our model."
      ]
    },
    {
      "cell_type": "code",
      "execution_count": null,
      "metadata": {
        "colab": {
          "base_uri": "https://localhost:8080/"
        },
        "id": "xfahjW_OmEv8",
        "outputId": "10c4688c-c139-4955-a6e1-e76ca27fd94a"
      },
      "outputs": [
        {
          "output_type": "stream",
          "name": "stdout",
          "text": [
            "tensor(25105.8086, grad_fn=<DivBackward0>)\n"
          ]
        }
      ],
      "source": [
        "# Compute loss\n",
        "loss = mse(preds, targets)\n",
        "print(loss)"
      ]
    },
    {
      "cell_type": "markdown",
      "metadata": {
        "id": "5ESbF1inmEv9"
      },
      "source": [
        "Here’s how we can interpret the result: *On average, each element in the prediction differs from the actual target by the square root of the loss*. And that’s pretty bad, considering the numbers we are trying to predict are themselves in the range 50–200. The result is called the *loss* because it indicates how bad the model is at predicting the target variables. It represents information loss in the model: the lower the loss, the better the model."
      ]
    },
    {
      "cell_type": "markdown",
      "metadata": {
        "id": "oVJCnZX0mEv-"
      },
      "source": [
        "## Compute gradients\n",
        "\n",
        "With PyTorch, we can automatically compute the gradient or derivative of the loss w.r.t. to the weights and biases because they have `requires_grad` set to `True`."
      ]
    },
    {
      "cell_type": "code",
      "execution_count": null,
      "metadata": {
        "id": "4dW2ea-jmEv-"
      },
      "outputs": [],
      "source": [
        "# Compute gradients\n",
        "loss.backward()"
      ]
    },
    {
      "cell_type": "markdown",
      "metadata": {
        "id": "h9pkJIF3mEv_"
      },
      "source": [
        "The gradients are stored in the `.grad` property of the respective tensors. Note that the derivative of the loss w.r.t. the weights matrix is itself a matrix with the same dimensions."
      ]
    },
    {
      "cell_type": "code",
      "execution_count": null,
      "metadata": {
        "colab": {
          "base_uri": "https://localhost:8080/"
        },
        "id": "qTayze1OmEv_",
        "outputId": "aec8dac1-3744-45d6-8e94-3c6836e9abd7"
      },
      "outputs": [
        {
          "output_type": "stream",
          "name": "stdout",
          "text": [
            "tensor([[-1.8176,  0.2670, -0.0939],\n",
            "        [ 0.0630,  1.0642, -1.1820]], requires_grad=True)\n",
            "tensor([[-18091.5137, -18843.7402, -11781.4814],\n",
            "        [ -4860.2588,  -5439.6230,  -3521.5256]])\n"
          ]
        }
      ],
      "source": [
        "# Gradients for weights\n",
        "print(weigts)\n",
        "print(weigts.grad)"
      ]
    },
    {
      "cell_type": "markdown",
      "metadata": {
        "id": "WfsHsMtemEwA"
      },
      "source": [
        "## Adjust weights and biases to reduce the loss\n",
        "\n",
        "The loss is a [quadratic function](https://en.wikipedia.org/wiki/Quadratic_function) of our weights and biases, and our objective is to find the set of weights where the loss is the lowest. If we plot a graph of the loss w.r.t any individual weight or bias element, it will look like the figure shown below. An important insight from calculus is that the gradient indicates the rate of change of the loss, i.e., the loss function's [slope](https://en.wikipedia.org/wiki/Slope) w.r.t. the weights and biases.\n",
        "\n",
        "If a gradient element is **positive**:\n",
        "\n",
        "* **increasing** the weight element's value slightly will **increase** the loss\n",
        "* **decreasing** the weight element's value slightly will **decrease** the loss\n",
        "\n",
        "![postive-gradient](https://i.imgur.com/WLzJ4xP.png)\n",
        "\n",
        "If a gradient element is **negative**:\n",
        "\n",
        "* **increasing** the weight element's value slightly will **decrease** the loss\n",
        "* **decreasing** the weight element's value slightly will **increase** the loss\n",
        "\n",
        "![negative=gradient](https://i.imgur.com/dvG2fxU.png)\n",
        "\n",
        "The increase or decrease in the loss by changing a weight element is proportional to the gradient of the loss w.r.t. that element. This observation forms the basis of _the gradient descent_ optimization algorithm that we'll use to improve our model (by _descending_ along the _gradient_).\n",
        "\n",
        "We can subtract from each weight element a small quantity proportional to the derivative of the loss w.r.t. that element to reduce the loss slightly."
      ]
    },
    {
      "cell_type": "code",
      "source": [
        "print(weigts)\n",
        "print(weigts.grad)"
      ],
      "metadata": {
        "colab": {
          "base_uri": "https://localhost:8080/"
        },
        "id": "Dd6c-sZ64655",
        "outputId": "dc6e4d09-951b-4c90-ba4a-314ca0632588"
      },
      "execution_count": null,
      "outputs": [
        {
          "output_type": "stream",
          "name": "stdout",
          "text": [
            "tensor([[-1.8176,  0.2670, -0.0939],\n",
            "        [ 0.0630,  1.0642, -1.1820]], requires_grad=True)\n",
            "tensor([[-18091.5137, -18843.7402, -11781.4814],\n",
            "        [ -4860.2588,  -5439.6230,  -3521.5256]])\n"
          ]
        }
      ]
    },
    {
      "cell_type": "code",
      "source": [
        "with torch.no_grad():\n",
        "    weigts -= weigts.grad * 1e-5\n",
        "    biases -= biases.grad * 1e-5"
      ],
      "metadata": {
        "id": "Ngpm4Evz49_1"
      },
      "execution_count": null,
      "outputs": []
    },
    {
      "cell_type": "code",
      "source": [
        "print(weigts)\n",
        "print(weigts.grad)\n",
        "print(biases)"
      ],
      "metadata": {
        "colab": {
          "base_uri": "https://localhost:8080/"
        },
        "id": "OlmxBGej7VDX",
        "outputId": "6aa414df-b228-4630-acf2-aacdb48ddaa5"
      },
      "execution_count": null,
      "outputs": [
        {
          "output_type": "stream",
          "name": "stdout",
          "text": [
            "tensor([[-1.6367,  0.4555,  0.0239],\n",
            "        [ 0.1116,  1.1186, -1.1468]], requires_grad=True)\n",
            "tensor([[-18091.5137, -18843.7402, -11781.4814],\n",
            "        [ -4860.2588,  -5439.6230,  -3521.5256]])\n",
            "tensor([-1.4421,  0.3468], requires_grad=True)\n"
          ]
        }
      ]
    },
    {
      "cell_type": "markdown",
      "source": [
        "We multiply the gradients with a very small number (10^-5 in this case) to ensure that we don't modify the weights by a very large amount."
      ],
      "metadata": {
        "id": "6msyTXsy5HiE"
      }
    },
    {
      "cell_type": "code",
      "execution_count": null,
      "metadata": {
        "colab": {
          "base_uri": "https://localhost:8080/"
        },
        "id": "e-jp2ndDmEwC",
        "outputId": "b275d829-0d6a-44c9-f3d3-40eb0ff76fc7"
      },
      "outputs": [
        {
          "output_type": "stream",
          "name": "stdout",
          "text": [
            "tensor(25105.8086, grad_fn=<DivBackward0>)\n"
          ]
        }
      ],
      "source": [
        "# Let's verify that the loss is actually lower\n",
        "loss = mse(preds, targets)\n",
        "print(loss)"
      ]
    },
    {
      "cell_type": "markdown",
      "metadata": {
        "id": "-dnjw-ITmEwD"
      },
      "source": [
        "Before we proceed, we reset the gradients to zero by invoking the `.zero_()` method. We need to do this because PyTorch accumulates gradients. Otherwise, the next time we invoke `.backward` on the loss, the new gradient values are added to the existing gradients, which may lead to unexpected results."
      ]
    },
    {
      "cell_type": "code",
      "execution_count": null,
      "metadata": {
        "colab": {
          "base_uri": "https://localhost:8080/"
        },
        "id": "_zkqed6LmEwD",
        "outputId": "a4a1cfcc-6b42-4028-e012-a12943c0fbee"
      },
      "outputs": [
        {
          "output_type": "stream",
          "name": "stdout",
          "text": [
            "tensor([[0., 0., 0.],\n",
            "        [0., 0., 0.]])\n",
            "tensor([0., 0.])\n"
          ]
        }
      ],
      "source": [
        "weigts.grad.zero_()\n",
        "biases.grad.zero_()\n",
        "print(weigts.grad)\n",
        "print(biases.grad)"
      ]
    },
    {
      "cell_type": "markdown",
      "metadata": {
        "id": "BiBMFACymEwE"
      },
      "source": [
        "## Train the model using gradient descent\n",
        "\n",
        "As seen above, we reduce the loss and improve our model using the gradient descent optimization algorithm. Thus, we can _train_ the model using the following steps:\n",
        "\n",
        "1. Generate predictions\n",
        "\n",
        "2. Calculate the loss\n",
        "\n",
        "3. Compute gradients w.r.t the weights and biases\n",
        "\n",
        "4. Adjust the weights by subtracting a small quantity proportional to the gradient\n",
        "\n",
        "5. Reset the gradients to zero\n",
        "\n",
        "Let's implement the above step by step."
      ]
    },
    {
      "cell_type": "code",
      "execution_count": null,
      "metadata": {
        "colab": {
          "base_uri": "https://localhost:8080/"
        },
        "id": "0Mo-2DwZmEwF",
        "outputId": "b0e2a362-eb01-4c50-ce07-a7105e44d06e"
      },
      "outputs": [
        {
          "output_type": "stream",
          "name": "stdout",
          "text": [
            "tensor([[ -89.3760,   34.1243],\n",
            "        [-108.7697,   35.5398],\n",
            "        [ -81.4157,   93.4294],\n",
            "        [-147.9135,   17.3954],\n",
            "        [ -68.9761,   35.1525]], grad_fn=<AddBackward0>)\n"
          ]
        }
      ],
      "source": [
        "# Generate predictions\n",
        "preds = model(inputs)\n",
        "print(preds)"
      ]
    },
    {
      "cell_type": "code",
      "execution_count": null,
      "metadata": {
        "colab": {
          "base_uri": "https://localhost:8080/"
        },
        "id": "GOKW__BsmEwH",
        "outputId": "0eafd02c-3836-4ea4-f17c-3e0a33ae18c6"
      },
      "outputs": [
        {
          "output_type": "stream",
          "name": "stdout",
          "text": [
            "tensor(17031.2227, grad_fn=<DivBackward0>)\n"
          ]
        }
      ],
      "source": [
        "# Calculate the loss\n",
        "loss = mse(preds, targets)\n",
        "print(loss)"
      ]
    },
    {
      "cell_type": "code",
      "execution_count": null,
      "metadata": {
        "colab": {
          "base_uri": "https://localhost:8080/"
        },
        "id": "j-BMzp4TmEwI",
        "outputId": "c412099b-22bd-4cac-c452-532125c6318d"
      },
      "outputs": [
        {
          "output_type": "stream",
          "name": "stdout",
          "text": [
            "tensor([[-14903.0371, -15422.3242,  -9669.1328],\n",
            "        [ -3960.7192,  -4471.7988,  -2924.3804]])\n",
            "tensor([-175.4902,  -48.8717])\n"
          ]
        }
      ],
      "source": [
        "# Compute gradients\n",
        "loss.backward()\n",
        "print(weigts.grad)\n",
        "print(biases.grad)"
      ]
    },
    {
      "cell_type": "markdown",
      "metadata": {
        "id": "ivOz5k7wmEwI"
      },
      "source": [
        "Let's update the weights and biases using the gradients computed above."
      ]
    },
    {
      "cell_type": "code",
      "execution_count": null,
      "metadata": {
        "id": "mcgRhIramEwJ"
      },
      "outputs": [],
      "source": [
        "# Adjust weights & reset gradients\n",
        "with torch.no_grad():\n",
        "    weigts -= weigts.grad * 1e-5\n",
        "    biases -= biases.grad * 1e-5\n",
        "    weigts.grad.zero_()\n",
        "    biases.grad.zero_()"
      ]
    },
    {
      "cell_type": "markdown",
      "metadata": {
        "id": "JGartnKUmEwJ"
      },
      "source": [
        "Let's take a look at the new weights and biases."
      ]
    },
    {
      "cell_type": "code",
      "execution_count": null,
      "metadata": {
        "colab": {
          "base_uri": "https://localhost:8080/"
        },
        "id": "kvUASF0-mEwK",
        "outputId": "f82abf86-8953-4ad9-82f7-aa7a99201fe1"
      },
      "outputs": [
        {
          "output_type": "stream",
          "name": "stdout",
          "text": [
            "tensor([[-1.4876,  0.6097,  0.1206],\n",
            "        [ 0.1512,  1.1633, -1.1176]], requires_grad=True)\n",
            "tensor([-1.4404,  0.3472], requires_grad=True)\n"
          ]
        }
      ],
      "source": [
        "print(weigts)\n",
        "print(biases)"
      ]
    },
    {
      "cell_type": "markdown",
      "metadata": {
        "id": "bLkmACPQmEwK"
      },
      "source": [
        "With the new weights and biases, the model should have a lower loss."
      ]
    },
    {
      "cell_type": "code",
      "execution_count": null,
      "metadata": {
        "colab": {
          "base_uri": "https://localhost:8080/"
        },
        "id": "Hq3ldivwmEwL",
        "outputId": "95061a2f-bc8b-47e7-a1ae-473141b678e9"
      },
      "outputs": [
        {
          "output_type": "stream",
          "name": "stdout",
          "text": [
            "tensor(11589.1602, grad_fn=<DivBackward0>)\n"
          ]
        }
      ],
      "source": [
        "# Calculate loss\n",
        "preds = model(inputs)\n",
        "loss = mse(preds, targets)\n",
        "print(loss)"
      ]
    },
    {
      "cell_type": "markdown",
      "metadata": {
        "id": "lUf0uNMjmEwM"
      },
      "source": [
        "We have already achieved a significant reduction in the loss merely by adjusting the weights and biases slightly using gradient descent."
      ]
    },
    {
      "cell_type": "markdown",
      "metadata": {
        "id": "znEpk5MEmEwN"
      },
      "source": [
        "## Train for multiple epochs\n",
        "\n",
        "To reduce the loss further, we can repeat the process of adjusting the weights and biases using the gradients multiple times. Each iteration is called an _epoch_. Let's train the model for 100 epochs."
      ]
    },
    {
      "cell_type": "code",
      "execution_count": null,
      "metadata": {
        "id": "4oym5G_ZmEwN"
      },
      "outputs": [],
      "source": [
        "# Train for 100 epochs\n",
        "for i in range(100):\n",
        "    preds = model(inputs)\n",
        "    loss = mse(preds, targets)\n",
        "    loss.backward()\n",
        "    with torch.no_grad():\n",
        "        weigts -= weigts.grad * 1e-5\n",
        "        biases -= biases.grad * 1e-5\n",
        "        weigts.grad.zero_()\n",
        "        biases.grad.zero_()"
      ]
    },
    {
      "cell_type": "markdown",
      "metadata": {
        "id": "N7yZ-lssmEwO"
      },
      "source": [
        "Once again, let's verify that the loss is now lower:"
      ]
    },
    {
      "cell_type": "code",
      "execution_count": null,
      "metadata": {
        "colab": {
          "base_uri": "https://localhost:8080/"
        },
        "id": "u1ez8IsamEwP",
        "outputId": "2f954b9a-ad47-4e3f-e274-b192c9d3e2ad"
      },
      "outputs": [
        {
          "output_type": "stream",
          "name": "stdout",
          "text": [
            "tensor(208.9924, grad_fn=<DivBackward0>)\n"
          ]
        }
      ],
      "source": [
        "# Calculate loss\n",
        "preds = model(inputs)\n",
        "loss = mse(preds, targets)\n",
        "print(loss)"
      ]
    },
    {
      "cell_type": "markdown",
      "metadata": {
        "id": "R6VEEKuTmEwQ"
      },
      "source": [
        "The loss is now much lower than its initial value. Let's look at the model's predictions and compare them with the targets."
      ]
    },
    {
      "cell_type": "code",
      "execution_count": null,
      "metadata": {
        "colab": {
          "base_uri": "https://localhost:8080/"
        },
        "id": "k-JkNcAXmEwQ",
        "outputId": "7b233258-d6ee-4489-b560-cb74088fca5a"
      },
      "outputs": [
        {
          "output_type": "execute_result",
          "data": {
            "text/plain": [
              "tensor([[ 54.4558,  72.9802],\n",
              "        [ 79.0963,  88.5951],\n",
              "        [130.1187, 156.1279],\n",
              "        [  6.5970,  50.8021],\n",
              "        [104.6793,  90.1546]], grad_fn=<AddBackward0>)"
            ]
          },
          "metadata": {},
          "execution_count": 240
        }
      ],
      "source": [
        "# Predictions\n",
        "preds"
      ]
    },
    {
      "cell_type": "code",
      "execution_count": null,
      "metadata": {
        "colab": {
          "base_uri": "https://localhost:8080/"
        },
        "id": "V6H2CcOSmEwR",
        "outputId": "1ba61b04-82df-42ae-ae76-dfc3b059b225"
      },
      "outputs": [
        {
          "output_type": "execute_result",
          "data": {
            "text/plain": [
              "tensor([[ 56.,  70.],\n",
              "        [ 81., 101.],\n",
              "        [119., 133.],\n",
              "        [ 22.,  37.],\n",
              "        [103., 119.]])"
            ]
          },
          "metadata": {},
          "execution_count": 241
        }
      ],
      "source": [
        "# Targets\n",
        "targets"
      ]
    },
    {
      "cell_type": "markdown",
      "metadata": {
        "id": "eDj7dB-XmEwR"
      },
      "source": [
        "The predictions are now quite close to the target variables. We can get even better results by training for a few more epochs. "
      ]
    },
    {
      "cell_type": "markdown",
      "metadata": {
        "id": "0_Ad9bpCmEwU"
      },
      "source": [
        "## Linear regression using PyTorch built-ins\n",
        "\n",
        "Let's begin by importing the `torch.nn` package from PyTorch, which contains utility classes for building neural networks."
      ]
    },
    {
      "cell_type": "code",
      "execution_count": null,
      "metadata": {
        "id": "HpZvPoW5mEwU"
      },
      "outputs": [],
      "source": [
        "import torch.nn as nn"
      ]
    },
    {
      "cell_type": "markdown",
      "metadata": {
        "id": "hkvRhr9TmEwV"
      },
      "source": [
        "As before, we represent the inputs and targets and matrices."
      ]
    },
    {
      "cell_type": "code",
      "execution_count": null,
      "metadata": {
        "id": "OATFYLZwmEwV"
      },
      "outputs": [],
      "source": [
        "# Input (temp, rainfall, humidity)\n",
        "inputs = np.array([[73, 67, 43], \n",
        "                   [91, 88, 64], \n",
        "                   [87, 134, 58], \n",
        "                   [102, 43, 37], \n",
        "                   [69, 96, 70], \n",
        "                   [74, 66, 43], \n",
        "                   [91, 87, 65], \n",
        "                   [88, 134, 59], \n",
        "                   [101, 44, 37], \n",
        "                   [68, 96, 71], \n",
        "                   [73, 66, 44], \n",
        "                   [92, 87, 64], \n",
        "                   [87, 135, 57], \n",
        "                   [103, 43, 36], \n",
        "                   [68, 97, 70]], \n",
        "                  dtype='float32')\n",
        "\n",
        "# Targets (apples, oranges)\n",
        "targets = np.array([[56, 70], \n",
        "                    [81, 101], \n",
        "                    [119, 133], \n",
        "                    [22, 37], \n",
        "                    [103, 119],\n",
        "                    [57, 69], \n",
        "                    [80, 102], \n",
        "                    [118, 132], \n",
        "                    [21, 38], \n",
        "                    [104, 118], \n",
        "                    [57, 69], \n",
        "                    [82, 100], \n",
        "                    [118, 134], \n",
        "                    [20, 38], \n",
        "                    [102, 120]], \n",
        "                   dtype='float32')\n",
        "\n",
        "inputs = torch.from_numpy(inputs)\n",
        "targets = torch.from_numpy(targets)"
      ]
    },
    {
      "cell_type": "code",
      "execution_count": null,
      "metadata": {
        "colab": {
          "base_uri": "https://localhost:8080/"
        },
        "id": "ZNic9N1smEwX",
        "outputId": "2f811826-8f8f-4a32-e390-830af5ba4d94"
      },
      "outputs": [
        {
          "output_type": "execute_result",
          "data": {
            "text/plain": [
              "tensor([[ 73.,  67.,  43.],\n",
              "        [ 91.,  88.,  64.],\n",
              "        [ 87., 134.,  58.],\n",
              "        [102.,  43.,  37.],\n",
              "        [ 69.,  96.,  70.],\n",
              "        [ 74.,  66.,  43.],\n",
              "        [ 91.,  87.,  65.],\n",
              "        [ 88., 134.,  59.],\n",
              "        [101.,  44.,  37.],\n",
              "        [ 68.,  96.,  71.],\n",
              "        [ 73.,  66.,  44.],\n",
              "        [ 92.,  87.,  64.],\n",
              "        [ 87., 135.,  57.],\n",
              "        [103.,  43.,  36.],\n",
              "        [ 68.,  97.,  70.]])"
            ]
          },
          "metadata": {},
          "execution_count": 247
        }
      ],
      "source": [
        "inputs"
      ]
    },
    {
      "cell_type": "markdown",
      "metadata": {
        "id": "5-LaZ5DGmEwY"
      },
      "source": [
        "We are using 15 training examples to illustrate how to work with large datasets in small batches. "
      ]
    },
    {
      "cell_type": "markdown",
      "metadata": {
        "id": "Poxla9VSmEwY"
      },
      "source": [
        "## Dataset and DataLoader\n",
        "\n",
        "We'll create a `TensorDataset`, which allows access to rows from `inputs` and `targets` as tuples, and provides standard APIs for working with many different types of datasets in PyTorch."
      ]
    },
    {
      "cell_type": "code",
      "execution_count": null,
      "metadata": {
        "id": "t8DLYqNomEwZ"
      },
      "outputs": [],
      "source": [
        "from torch.utils.data import TensorDataset"
      ]
    },
    {
      "cell_type": "code",
      "execution_count": null,
      "metadata": {
        "colab": {
          "base_uri": "https://localhost:8080/"
        },
        "id": "JPgIoARdmEwZ",
        "outputId": "a425c508-28d1-43d5-d7c6-39b7222626df"
      },
      "outputs": [
        {
          "output_type": "execute_result",
          "data": {
            "text/plain": [
              "(tensor([[ 73.,  67.,  43.],\n",
              "         [ 91.,  88.,  64.],\n",
              "         [ 87., 134.,  58.]]), tensor([[ 56.,  70.],\n",
              "         [ 81., 101.],\n",
              "         [119., 133.]]))"
            ]
          },
          "metadata": {},
          "execution_count": 249
        }
      ],
      "source": [
        "# Define dataset\n",
        "train_ds = TensorDataset(inputs, targets)\n",
        "train_ds[0:3]"
      ]
    },
    {
      "cell_type": "markdown",
      "metadata": {
        "id": "juXr9C5nmEwZ"
      },
      "source": [
        "The `TensorDataset` allows us to access a small section of the training data using the array indexing notation (`[0:3]` in the above code). It returns a tuple with two elements. The first element contains the input variables for the selected rows, and the second contains the targets."
      ]
    },
    {
      "cell_type": "markdown",
      "metadata": {
        "id": "1q3IsDrVmEwa"
      },
      "source": [
        "We'll also create a `DataLoader`, which can split the data into batches of a predefined size while training. It also provides other utilities like shuffling and random sampling of the data."
      ]
    },
    {
      "cell_type": "code",
      "execution_count": null,
      "metadata": {
        "id": "zOtHT61ImEwa"
      },
      "outputs": [],
      "source": [
        "from torch.utils.data import DataLoader"
      ]
    },
    {
      "cell_type": "code",
      "execution_count": null,
      "metadata": {
        "id": "Ss_W5iNamEwb"
      },
      "outputs": [],
      "source": [
        "# Define data loader\n",
        "batch_size = 5\n",
        "train_dl = DataLoader(train_ds, batch_size, shuffle=True)"
      ]
    },
    {
      "cell_type": "markdown",
      "metadata": {
        "id": "7-QBD4A0mEwb"
      },
      "source": [
        "We can use the data loader in a `for` loop. Let's look at an example."
      ]
    },
    {
      "cell_type": "code",
      "execution_count": null,
      "metadata": {
        "colab": {
          "base_uri": "https://localhost:8080/"
        },
        "id": "QYz8vHFbmEwb",
        "outputId": "fbf4e424-31a9-48af-fe01-22f90e985024"
      },
      "outputs": [
        {
          "output_type": "stream",
          "name": "stdout",
          "text": [
            "tensor([[ 68.,  97.,  70.],\n",
            "        [101.,  44.,  37.],\n",
            "        [102.,  43.,  37.],\n",
            "        [ 87., 134.,  58.],\n",
            "        [ 92.,  87.,  64.]])\n",
            "tensor([[102., 120.],\n",
            "        [ 21.,  38.],\n",
            "        [ 22.,  37.],\n",
            "        [119., 133.],\n",
            "        [ 82., 100.]])\n"
          ]
        }
      ],
      "source": [
        "for xb, yb in train_dl:\n",
        "    print(xb)\n",
        "    print(yb)\n",
        "    break"
      ]
    },
    {
      "cell_type": "markdown",
      "metadata": {
        "id": "xlpbOQOHmEwc"
      },
      "source": [
        "In each iteration, the data loader returns one batch of data with the given batch size. If `shuffle` is set to `True`, it shuffles the training data before creating batches. Shuffling helps randomize the input to the optimization algorithm, leading to a faster reduction in the loss."
      ]
    },
    {
      "cell_type": "markdown",
      "metadata": {
        "id": "mZbvVFhVmEwc"
      },
      "source": [
        "## nn.Linear\n",
        "\n",
        "Instead of initializing the weights & biases manually, we can define the model using the `nn.Linear` class from PyTorch, which does it automatically."
      ]
    },
    {
      "cell_type": "code",
      "execution_count": null,
      "metadata": {
        "colab": {
          "base_uri": "https://localhost:8080/"
        },
        "id": "NA8eRDrumEwd",
        "outputId": "38edab8d-a01c-4671-884d-2f0c03b69deb"
      },
      "outputs": [
        {
          "output_type": "stream",
          "name": "stdout",
          "text": [
            "Parameter containing:\n",
            "tensor([[-0.3059, -0.2700, -0.2402],\n",
            "        [ 0.0091, -0.1527,  0.5638]], requires_grad=True)\n",
            "Parameter containing:\n",
            "tensor([ 0.5438, -0.5389], requires_grad=True)\n"
          ]
        }
      ],
      "source": [
        "# Define model\n",
        "model = nn.Linear(3, 2)\n",
        "print(model.weight)\n",
        "print(model.bias)"
      ]
    },
    {
      "cell_type": "markdown",
      "metadata": {
        "id": "8fPMiJTdmEwd"
      },
      "source": [
        "PyTorch models also have a helpful `.parameters` method, which returns a list containing all the weights and bias matrices present in the model. For our linear regression model, we have one weight matrix and one bias matrix."
      ]
    },
    {
      "cell_type": "code",
      "execution_count": null,
      "metadata": {
        "colab": {
          "base_uri": "https://localhost:8080/"
        },
        "id": "TLOOTeIFmEwe",
        "outputId": "1592d144-95ba-4bef-ac1b-fe33d117419f"
      },
      "outputs": [
        {
          "output_type": "execute_result",
          "data": {
            "text/plain": [
              "[Parameter containing:\n",
              " tensor([[-0.3059, -0.2700, -0.2402],\n",
              "         [ 0.0091, -0.1527,  0.5638]], requires_grad=True),\n",
              " Parameter containing:\n",
              " tensor([ 0.5438, -0.5389], requires_grad=True)]"
            ]
          },
          "metadata": {},
          "execution_count": 254
        }
      ],
      "source": [
        "# Parameters\n",
        "list(model.parameters())"
      ]
    },
    {
      "cell_type": "markdown",
      "metadata": {
        "id": "iZTkDGCKmEwe"
      },
      "source": [
        "We can use the model to generate predictions in the same way as before."
      ]
    },
    {
      "cell_type": "code",
      "execution_count": null,
      "metadata": {
        "colab": {
          "base_uri": "https://localhost:8080/"
        },
        "id": "EP4rYglOmEwe",
        "outputId": "4f2eafe3-1b3e-4c88-b90d-c509ef453232"
      },
      "outputs": [
        {
          "output_type": "execute_result",
          "data": {
            "text/plain": [
              "tensor([[-50.2078,  14.1389],\n",
              "        [-66.4286,  22.9360],\n",
              "        [-76.1830,  12.4917],\n",
              "        [-51.1594,  14.6858],\n",
              "        [-63.2989,  24.8964],\n",
              "        [-50.2437,  14.3007],\n",
              "        [-66.3989,  23.6525],\n",
              "        [-76.7291,  13.0646],\n",
              "        [-51.1234,  14.5240],\n",
              "        [-63.2332,  25.4511],\n",
              "        [-50.1780,  14.8554],\n",
              "        [-66.4646,  23.0979],\n",
              "        [-76.2127,  11.7751],\n",
              "        [-51.2251,  14.1312],\n",
              "        [-63.2629,  24.7346]], grad_fn=<AddmmBackward0>)"
            ]
          },
          "metadata": {},
          "execution_count": 255
        }
      ],
      "source": [
        "# Generate predictions\n",
        "preds = model(inputs)\n",
        "preds"
      ]
    },
    {
      "cell_type": "markdown",
      "metadata": {
        "id": "eBx8pREWmEwf"
      },
      "source": [
        "## Loss Function\n",
        "\n",
        "Instead of defining a loss function manually, we can use the built-in loss function `mse_loss`."
      ]
    },
    {
      "cell_type": "code",
      "execution_count": null,
      "metadata": {
        "id": "qks8uDASmEwf"
      },
      "outputs": [],
      "source": [
        "# Import nn.functional\n",
        "import torch.nn.functional as F"
      ]
    },
    {
      "cell_type": "markdown",
      "metadata": {
        "id": "PtYSCV1wmEwg"
      },
      "source": [
        "The `nn.functional` package contains many useful loss functions and several other utilities. "
      ]
    },
    {
      "cell_type": "code",
      "execution_count": null,
      "metadata": {
        "id": "06-S1pzQmEwg"
      },
      "outputs": [],
      "source": [
        "# Define loss function\n",
        "loss_fn = F.mse_loss"
      ]
    },
    {
      "cell_type": "markdown",
      "metadata": {
        "id": "DQ1Toe8fmEwg"
      },
      "source": [
        "Let's compute the loss for the current predictions of our model."
      ]
    },
    {
      "cell_type": "code",
      "execution_count": null,
      "metadata": {
        "colab": {
          "base_uri": "https://localhost:8080/"
        },
        "id": "UitcTojCmEwh",
        "outputId": "1b7b1332-240b-4f8e-87b4-0c8869d01645"
      },
      "outputs": [
        {
          "output_type": "stream",
          "name": "stdout",
          "text": [
            "tensor(13689.5283, grad_fn=<MseLossBackward0>)\n"
          ]
        }
      ],
      "source": [
        "loss = loss_fn(model(inputs), targets)\n",
        "print(loss)"
      ]
    },
    {
      "cell_type": "markdown",
      "metadata": {
        "id": "fNMVMV5CmEwh"
      },
      "source": [
        "## Optimizer\n",
        "\n",
        "Instead of manually manipulating the model's weights & biases using gradients, we can use the optimizer `optim.SGD`. SGD is short for \"stochastic gradient descent\". The term _stochastic_ indicates that samples are selected in random batches instead of as a single group."
      ]
    },
    {
      "cell_type": "code",
      "execution_count": null,
      "metadata": {
        "id": "VRRFpsL0mEwi"
      },
      "outputs": [],
      "source": [
        "# Define optimizer\n",
        "opt = torch.optim.SGD(model.parameters(), lr=1e-5)"
      ]
    },
    {
      "cell_type": "markdown",
      "metadata": {
        "id": "xA5uI12gmEwi"
      },
      "source": [
        "Note that `model.parameters()` is passed as an argument to `optim.SGD` so that the optimizer knows which matrices should be modified during the update step. Also, we can specify a learning rate that controls the amount by which the parameters are modified."
      ]
    },
    {
      "cell_type": "markdown",
      "metadata": {
        "id": "kXwX3S76mEwi"
      },
      "source": [
        "## Train the model\n",
        "\n",
        "We are now ready to train the model. We'll follow the same process to implement gradient descent:\n",
        "\n",
        "1. Generate predictions\n",
        "\n",
        "2. Calculate the loss\n",
        "\n",
        "3. Compute gradients w.r.t the weights and biases\n",
        "\n",
        "4. Adjust the weights by subtracting a small quantity proportional to the gradient\n",
        "\n",
        "5. Reset the gradients to zero\n",
        "\n",
        "The only change is that we'll work batches of data instead of processing the entire training data in every iteration. Let's define a utility function `fit` that trains the model for a given number of epochs."
      ]
    },
    {
      "cell_type": "code",
      "execution_count": null,
      "metadata": {
        "id": "tfsU8AwdmEwk"
      },
      "outputs": [],
      "source": [
        "# Utility function to train the model\n",
        "def fit(num_epochs, model, loss_fn, opt, train_dl):\n",
        "    \n",
        "    # Repeat for given number of epochs\n",
        "    for epoch in range(num_epochs):\n",
        "        \n",
        "        # Train with batches of data\n",
        "        for xb,yb in train_dl:\n",
        "            \n",
        "            # 1. Generate predictions\n",
        "            pred = model(xb)\n",
        "            \n",
        "            # 2. Calculate loss\n",
        "            loss = loss_fn(pred, yb)\n",
        "            \n",
        "            # 3. Compute gradients\n",
        "            loss.backward()\n",
        "            \n",
        "            # 4. Update parameters using gradients\n",
        "            opt.step()\n",
        "            \n",
        "            # 5. Reset the gradients to zero\n",
        "            opt.zero_grad()\n",
        "        \n",
        "        # Print the progress\n",
        "        if (epoch+1) % 10 == 0:\n",
        "            print('Epoch [{}/{}], Loss: {:.4f}'.format(epoch+1, num_epochs, loss.item()))"
      ]
    },
    {
      "cell_type": "markdown",
      "metadata": {
        "id": "qAI_8NyTmEwl"
      },
      "source": [
        "Some things to note above:\n",
        "\n",
        "* We use the data loader defined earlier to get batches of data for every iteration.\n",
        "\n",
        "* Instead of updating parameters (weights and biases) manually, we use `opt.step` to perform the update and `opt.zero_grad` to reset the gradients to zero.\n",
        "\n",
        "* We've also added a log statement that prints the loss from the last batch of data for every 10th epoch to track training progress. `loss.item` returns the actual value stored in the loss tensor.\n",
        "\n",
        "Let's train the model for 100 epochs."
      ]
    },
    {
      "cell_type": "code",
      "execution_count": null,
      "metadata": {
        "colab": {
          "base_uri": "https://localhost:8080/"
        },
        "id": "pZ67H-humEwl",
        "outputId": "7082d244-24af-4d82-b392-c9acb1c4e07a"
      },
      "outputs": [
        {
          "output_type": "stream",
          "name": "stdout",
          "text": [
            "Epoch [10/100], Loss: 565.4595\n",
            "Epoch [20/100], Loss: 266.5120\n",
            "Epoch [30/100], Loss: 270.8366\n",
            "Epoch [40/100], Loss: 184.0011\n",
            "Epoch [50/100], Loss: 80.2623\n",
            "Epoch [60/100], Loss: 32.6978\n",
            "Epoch [70/100], Loss: 9.7846\n",
            "Epoch [80/100], Loss: 36.9116\n",
            "Epoch [90/100], Loss: 12.9942\n",
            "Epoch [100/100], Loss: 21.7675\n"
          ]
        }
      ],
      "source": [
        "fit(100, model, loss_fn, opt, train_dl)"
      ]
    },
    {
      "cell_type": "markdown",
      "metadata": {
        "id": "MBG1x2femEwm"
      },
      "source": [
        "Let's generate predictions using our model and verify that they're close to our targets."
      ]
    },
    {
      "cell_type": "code",
      "execution_count": null,
      "metadata": {
        "colab": {
          "base_uri": "https://localhost:8080/"
        },
        "id": "rpQL90WymEwo",
        "outputId": "5566b647-a907-4a5a-a971-bc1e9207e64d"
      },
      "outputs": [
        {
          "output_type": "execute_result",
          "data": {
            "text/plain": [
              "tensor([[ 58.3360,  71.2732],\n",
              "        [ 80.4038, 101.2303],\n",
              "        [119.9366, 129.7415],\n",
              "        [ 27.8679,  43.4443],\n",
              "        [ 95.0021, 116.2826],\n",
              "        [ 57.2090,  70.3698],\n",
              "        [ 79.8870, 101.3826],\n",
              "        [120.0664, 130.4245],\n",
              "        [ 28.9949,  44.3477],\n",
              "        [ 95.6123, 117.3383],\n",
              "        [ 57.8192,  71.4255],\n",
              "        [ 79.2769, 100.3270],\n",
              "        [120.4535, 129.5892],\n",
              "        [ 27.2577,  42.3886],\n",
              "        [ 96.1291, 117.1860]], grad_fn=<AddmmBackward0>)"
            ]
          },
          "metadata": {},
          "execution_count": 262
        }
      ],
      "source": [
        "# Generate predictions\n",
        "preds = model(inputs)\n",
        "preds"
      ]
    },
    {
      "cell_type": "code",
      "execution_count": null,
      "metadata": {
        "colab": {
          "base_uri": "https://localhost:8080/"
        },
        "id": "dJG7rNvimEwp",
        "outputId": "7d1746fe-a0b3-4be3-f1a8-4192cc64c2da"
      },
      "outputs": [
        {
          "output_type": "execute_result",
          "data": {
            "text/plain": [
              "tensor([[ 56.,  70.],\n",
              "        [ 81., 101.],\n",
              "        [119., 133.],\n",
              "        [ 22.,  37.],\n",
              "        [103., 119.],\n",
              "        [ 57.,  69.],\n",
              "        [ 80., 102.],\n",
              "        [118., 132.],\n",
              "        [ 21.,  38.],\n",
              "        [104., 118.],\n",
              "        [ 57.,  69.],\n",
              "        [ 82., 100.],\n",
              "        [118., 134.],\n",
              "        [ 20.,  38.],\n",
              "        [102., 120.]])"
            ]
          },
          "metadata": {},
          "execution_count": 263
        }
      ],
      "source": [
        "# Compare with targets\n",
        "targets"
      ]
    },
    {
      "cell_type": "markdown",
      "metadata": {
        "id": "KZmLLvSImEwq"
      },
      "source": [
        "Indeed, the predictions are quite close to our targets. We have a trained a reasonably good model to predict crop yields for apples and oranges by looking at the average temperature, rainfall, and humidity in a region. We can use it to make predictions of crop yields for new regions by passing a batch containing a single row of input."
      ]
    },
    {
      "cell_type": "code",
      "execution_count": null,
      "metadata": {
        "colab": {
          "base_uri": "https://localhost:8080/"
        },
        "id": "7NvEj9IUmEwq",
        "outputId": "c33f91d4-6774-41b7-de0c-1a2a65946034"
      },
      "outputs": [
        {
          "output_type": "execute_result",
          "data": {
            "text/plain": [
              "tensor([[54.6784, 68.9018]], grad_fn=<AddmmBackward0>)"
            ]
          },
          "metadata": {},
          "execution_count": 264
        }
      ],
      "source": [
        "model(torch.tensor([[75, 63, 44.]]))"
      ]
    },
    {
      "cell_type": "markdown",
      "metadata": {
        "id": "Bo8ZGj7CmEwr"
      },
      "source": [
        "The predicted yield of apples is 54.3 tons per hectare, and that of oranges is 68.3 tons per hectare."
      ]
    }
  ],
  "metadata": {
    "kernelspec": {
      "display_name": "Python 3",
      "language": "python",
      "name": "python3"
    },
    "language_info": {
      "codemirror_mode": {
        "name": "ipython",
        "version": 3
      },
      "file_extension": ".py",
      "mimetype": "text/x-python",
      "name": "python",
      "nbconvert_exporter": "python",
      "pygments_lexer": "ipython3",
      "version": "3.8.5"
    },
    "colab": {
      "name": "02_Gradient_Descent_and_Linear_Regression.ipynb",
      "provenance": [],
      "collapsed_sections": [],
      "include_colab_link": true
    }
  },
  "nbformat": 4,
  "nbformat_minor": 0
}