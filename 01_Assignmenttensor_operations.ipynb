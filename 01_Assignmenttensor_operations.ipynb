{
  "cells": [
    {
      "cell_type": "markdown",
      "metadata": {
        "id": "view-in-github",
        "colab_type": "text"
      },
      "source": [
        "<a href=\"https://colab.research.google.com/github/soujanya-vattikolla/PyTorch/blob/main/01_Assignmenttensor_operations.ipynb\" target=\"_parent\"><img src=\"https://colab.research.google.com/assets/colab-badge.svg\" alt=\"Open In Colab\"/></a>"
      ]
    },
    {
      "cell_type": "markdown",
      "metadata": {
        "id": "yL0Gst9zcI5u"
      },
      "source": [
        "### Few basic functions in Pytorch\n",
        "\n",
        "PyTorch is an open source machine learning library based on the Torch library used for applications like image recognition or text recognition using deep learning.\n",
        "\n",
        "1. torch.randn()\n",
        "2. torch.sort()\n",
        "3. torch.pow()\n",
        "4. torch.round()\n",
        "5. torch.det()"
      ]
    },
    {
      "cell_type": "code",
      "execution_count": null,
      "metadata": {
        "id": "k5GdvTt-cI5y"
      },
      "outputs": [],
      "source": [
        "# Import torch and other required modules\n",
        "import torch as th"
      ]
    },
    {
      "cell_type": "markdown",
      "metadata": {
        "id": "02Sp3HNPcI5z"
      },
      "source": [
        "### Function 1 -  torch.randn()\n",
        "\n",
        "torch.randn(*size, out=None, dtype=None, layout=torch.strided, device=None, requires_grad=False)\n",
        "\n",
        "Returns a tensor filled with random numbers from a normal distribution with mean 0 and variance 1 (also called the standard normal distribution).\n",
        "The shape of the tensor is defined by the variable argument size."
      ]
    },
    {
      "cell_type": "code",
      "execution_count": null,
      "metadata": {
        "colab": {
          "base_uri": "https://localhost:8080/"
        },
        "id": "wvbLTfHWcI52",
        "outputId": "d20daaea-f015-4f74-b0cb-22e614132b1f"
      },
      "outputs": [
        {
          "output_type": "stream",
          "name": "stdout",
          "text": [
            "X:  tensor([[ 0.1299, -0.9182, -0.6502],\n",
            "        [-1.0658,  0.8459,  1.8579],\n",
            "        [-1.0836, -0.1551,  0.8129],\n",
            "        [-0.2247, -1.5154, -0.7566]])\n"
          ]
        }
      ],
      "source": [
        "# Example 1 \n",
        "x_randn = th.randn(4,3)\n",
        "print('X: ',x_randn)"
      ]
    },
    {
      "cell_type": "markdown",
      "metadata": {
        "id": "QBS-6BlRcI5_"
      },
      "source": [
        "In the above example created a tensor having 4 Rows and 3 Coulumn with 12 random elements."
      ]
    },
    {
      "cell_type": "code",
      "execution_count": null,
      "metadata": {
        "colab": {
          "base_uri": "https://localhost:8080/"
        },
        "id": "2p_WL92qcI6B",
        "outputId": "29630d3a-2440-4610-c543-7c9017281246"
      },
      "outputs": [
        {
          "output_type": "stream",
          "name": "stdout",
          "text": [
            "Y: \n",
            " tensor([[[-0.5828, -1.3263,  0.6279],\n",
            "         [ 0.6594, -0.7537, -1.0471],\n",
            "         [ 0.7428,  0.1563,  0.5579],\n",
            "         [ 0.1383, -1.5144, -0.2578]],\n",
            "\n",
            "        [[-0.6065, -0.1259, -0.8788],\n",
            "         [-0.1935, -1.2056, -0.8559],\n",
            "         [-0.0996,  0.4268, -0.0886],\n",
            "         [-0.1496, -0.5486,  1.1226]]])\n"
          ]
        }
      ],
      "source": [
        "# Example 2\n",
        "y_randn = th.randn(2,4,3)\n",
        "print('Y: \\n',y_randn)"
      ]
    },
    {
      "cell_type": "markdown",
      "metadata": {
        "id": "w23Bn2fVcI6D"
      },
      "source": [
        "In the above example created a 3-D tensor having 2 subtensors of 4 Rows and 3 Coloumn."
      ]
    },
    {
      "cell_type": "code",
      "execution_count": null,
      "metadata": {
        "colab": {
          "base_uri": "https://localhost:8080/",
          "height": 314
        },
        "id": "TMSMx-VPcI6E",
        "outputId": "d3690f40-e5cf-4330-c1e0-5c2f9bdd862b"
      },
      "outputs": [
        {
          "output_type": "error",
          "ename": "TypeError",
          "evalue": "ignored",
          "traceback": [
            "\u001b[0;31m---------------------------------------------------------------------------\u001b[0m",
            "\u001b[0;31mTypeError\u001b[0m                                 Traceback (most recent call last)",
            "\u001b[0;32m<ipython-input-16-5dfaf0df420b>\u001b[0m in \u001b[0;36m<module>\u001b[0;34m()\u001b[0m\n\u001b[1;32m      1\u001b[0m \u001b[0;31m# Example 3 - breaking (to illustrate when it breaks)\u001b[0m\u001b[0;34m\u001b[0m\u001b[0;34m\u001b[0m\u001b[0;34m\u001b[0m\u001b[0m\n\u001b[0;32m----> 2\u001b[0;31m \u001b[0mz_randn\u001b[0m \u001b[0;34m=\u001b[0m \u001b[0mth\u001b[0m\u001b[0;34m.\u001b[0m\u001b[0mrandn\u001b[0m\u001b[0;34m(\u001b[0m\u001b[0;34m)\u001b[0m\u001b[0;34m\u001b[0m\u001b[0;34m\u001b[0m\u001b[0m\n\u001b[0m\u001b[1;32m      3\u001b[0m \u001b[0mz_randn\u001b[0m\u001b[0;34m\u001b[0m\u001b[0;34m\u001b[0m\u001b[0m\n",
            "\u001b[0;31mTypeError\u001b[0m: randn() received an invalid combination of arguments - got (), but expected one of:\n * (tuple of ints size, *, torch.Generator generator, tuple of names names, torch.dtype dtype, torch.layout layout, torch.device device, bool pin_memory, bool requires_grad)\n * (tuple of ints size, *, torch.Generator generator, Tensor out, torch.dtype dtype, torch.layout layout, torch.device device, bool pin_memory, bool requires_grad)\n * (tuple of ints size, *, Tensor out, torch.dtype dtype, torch.layout layout, torch.device device, bool pin_memory, bool requires_grad)\n * (tuple of ints size, *, tuple of names names, torch.dtype dtype, torch.layout layout, torch.device device, bool pin_memory, bool requires_grad)\n"
          ]
        }
      ],
      "source": [
        "# Example 3 - breaking (to illustrate when it breaks)\n",
        "z_randn = th.randn()\n",
        "z_randn"
      ]
    },
    {
      "cell_type": "markdown",
      "metadata": {
        "id": "gdIJ5c2VcI6F"
      },
      "source": [
        "The above example produces an error because randn() function requires at least one positional arguments: \"size\" without which all the other arguments will not work too.\n"
      ]
    },
    {
      "cell_type": "markdown",
      "metadata": {
        "id": "HVv6BDsJcI6P"
      },
      "source": [
        "### Function 2 torch.sort()\n",
        "\n",
        "torch.sort(input, dim=-1, descending=False, out=None) -> (Tensor, LongTensor)\n",
        "\n",
        "This function sorts the elements of the input tensor along a given dimension in ascending order by value."
      ]
    },
    {
      "cell_type": "code",
      "execution_count": null,
      "metadata": {
        "colab": {
          "base_uri": "https://localhost:8080/"
        },
        "id": "xxhnl_RecI6Q",
        "outputId": "215b6f5f-ec23-4aef-f654-f0a7e1ea8bc3"
      },
      "outputs": [
        {
          "output_type": "stream",
          "name": "stdout",
          "text": [
            "Sorted tensor elements in Ascending order: \n",
            " tensor([[-2.5962, -1.1733, -0.8126, -0.3908, -0.2917, -0.2005,  0.2083,  0.2868,\n",
            "          0.7272,  1.0371],\n",
            "        [-2.0168, -1.2161, -1.1285, -1.1197, -1.0163, -0.5888,  0.5917,  0.6207,\n",
            "          0.8758,  0.9538],\n",
            "        [-2.0913, -0.1753, -0.1334,  0.0497,  0.7715,  1.3295,  1.6612,  2.2265,\n",
            "          2.3269,  2.7857],\n",
            "        [-0.8191, -0.5628, -0.0488,  0.2246,  0.3173,  0.4047,  0.5267,  0.6207,\n",
            "          0.8157,  0.8394],\n",
            "        [-1.4112, -1.2232, -0.8918, -0.0757,  0.1951,  0.2853,  0.5667,  0.8571,\n",
            "          0.9196,  1.1943]])\n"
          ]
        }
      ],
      "source": [
        "# Example 1\n",
        "a_sort = th.randn(5,10)\n",
        "sortedA, indicesA = th.sort(a_sort, descending=False)\n",
        "print('Sorted tensor elements in Ascending order: \\n',sortedA)"
      ]
    },
    {
      "cell_type": "markdown",
      "metadata": {
        "id": "F9xkFtYGcI6R"
      },
      "source": [
        "In the above example with the help of torch.sort() sorted the elements of the 5,10 matrix in ascending order row wise."
      ]
    },
    {
      "cell_type": "code",
      "execution_count": null,
      "metadata": {
        "colab": {
          "base_uri": "https://localhost:8080/"
        },
        "id": "az6JquDzcI6S",
        "outputId": "8064bcd9-27d2-47da-c9e5-31882fe66096"
      },
      "outputs": [
        {
          "output_type": "stream",
          "name": "stdout",
          "text": [
            "Sorted Elements: \n",
            " tensor([-0.6713, -0.5784, -0.5717, -0.4200, -0.4087,  0.0535,  0.2473,  0.3507,\n",
            "         1.0553,  1.3482])\n",
            "Indices of the elements according to their values: \n",
            " tensor([1, 6, 5, 3, 4, 2, 7, 0, 9, 8])\n"
          ]
        }
      ],
      "source": [
        "# Example 2 \n",
        "b_sort = th.randn(10)\n",
        "sortedb, indicesb = th.sort(b_sort,descending=False)\n",
        "print('Sorted Elements: \\n',sortedb)\n",
        "print('Indices of the elements according to their values: \\n',indicesb)\n"
      ]
    },
    {
      "cell_type": "markdown",
      "metadata": {
        "id": "ST4hBYnVcI6T"
      },
      "source": [
        "In the above example sorted a 1D tensor with the help of torch.sort() function."
      ]
    },
    {
      "cell_type": "code",
      "execution_count": null,
      "metadata": {
        "colab": {
          "base_uri": "https://localhost:8080/",
          "height": 206
        },
        "id": "YvX8lrAUcI6T",
        "outputId": "0299bf09-e0f4-4eea-8572-103d7874689c"
      },
      "outputs": [
        {
          "output_type": "error",
          "ename": "NameError",
          "evalue": "ignored",
          "traceback": [
            "\u001b[0;31m---------------------------------------------------------------------------\u001b[0m",
            "\u001b[0;31mNameError\u001b[0m                                 Traceback (most recent call last)",
            "\u001b[0;32m<ipython-input-23-045018823664>\u001b[0m in \u001b[0;36m<module>\u001b[0;34m()\u001b[0m\n\u001b[1;32m      1\u001b[0m \u001b[0;31m# Example 3\u001b[0m\u001b[0;34m\u001b[0m\u001b[0;34m\u001b[0m\u001b[0;34m\u001b[0m\u001b[0m\n\u001b[0;32m----> 2\u001b[0;31m \u001b[0msortedc\u001b[0m \u001b[0;34m=\u001b[0m \u001b[0mth\u001b[0m\u001b[0;34m.\u001b[0m\u001b[0msort\u001b[0m\u001b[0;34m(\u001b[0m\u001b[0mc\u001b[0m\u001b[0;34m)\u001b[0m\u001b[0;34m\u001b[0m\u001b[0;34m\u001b[0m\u001b[0m\n\u001b[0m\u001b[1;32m      3\u001b[0m \u001b[0mprint\u001b[0m\u001b[0;34m(\u001b[0m\u001b[0msortedc\u001b[0m\u001b[0;34m)\u001b[0m\u001b[0;34m\u001b[0m\u001b[0;34m\u001b[0m\u001b[0m\n",
            "\u001b[0;31mNameError\u001b[0m: name 'c' is not defined"
          ]
        }
      ],
      "source": [
        "# Example 3 \n",
        "sortedc = th.sort(c)\n",
        "print(sortedc)"
      ]
    },
    {
      "cell_type": "markdown",
      "metadata": {
        "id": "-wSZFaNicI6U"
      },
      "source": [
        "The above example breaks because for the torch.sort() functions to operate, an argument which is previsoly present has to be provided."
      ]
    },
    {
      "cell_type": "markdown",
      "metadata": {
        "id": "8Rq9yOYVcI6X"
      },
      "source": [
        "### Function 3 - torch.pow()\n",
        "\n",
        "torch.pow(input, exponent, out=None)\n",
        "\n",
        "This function takes the power of each element in input with exponent and returns a tensor with the result. exponent can be either a single float number or a tensor with the same number of elements as input."
      ]
    },
    {
      "cell_type": "code",
      "execution_count": null,
      "metadata": {
        "colab": {
          "base_uri": "https://localhost:8080/"
        },
        "id": "5meGRTE8cI6a",
        "outputId": "6d6159e0-4b7b-4629-9e60-d18987efab02"
      },
      "outputs": [
        {
          "output_type": "stream",
          "name": "stdout",
          "text": [
            "Value of P: \n",
            " tensor([-0.3977, -0.7607, -0.2513,  0.5362,  0.7787])\n",
            "Value of P after applying .pow function: \n",
            " tensor([0.1581, 0.5786, 0.0632, 0.2875, 0.6064])\n"
          ]
        }
      ],
      "source": [
        "# Example 1\n",
        "x_randn = th.randn(5)\n",
        "print('Value of P: \\n',x_randn)\n",
        "pow_values = th.pow(x_randn,2)\n",
        "print('Value of x after applying .pow function: \\n',pow_values)\n"
      ]
    },
    {
      "cell_type": "markdown",
      "metadata": {
        "id": "jYrQfyMocI6b"
      },
      "source": [
        "In the above example squared each element of the 1D tensor."
      ]
    },
    {
      "cell_type": "code",
      "execution_count": null,
      "metadata": {
        "colab": {
          "base_uri": "https://localhost:8080/"
        },
        "id": "LfnYt_c5cI6c",
        "outputId": "b27bc8c8-f330-4087-f4b5-70627231affd"
      },
      "outputs": [
        {
          "output_type": "stream",
          "name": "stdout",
          "text": [
            "Value of q: \n",
            " tensor([[ 0.5749,  0.4173, -0.4507,  0.3208],\n",
            "        [ 0.1783,  0.0922,  0.3365, -0.4709],\n",
            "        [ 1.9226, -1.3706,  0.3454, -0.2219]])\n",
            "Elements of q after dividing each element by itself raised to the power of 2: \n",
            " tensor([[  3.0261,   5.7437,   4.9236,   9.7174],\n",
            "        [ 31.4442, 117.7169,   8.8329,   4.5098],\n",
            "        [  0.2705,   0.5323,   8.3811,  20.3116]])\n"
          ]
        }
      ],
      "source": [
        "# Example 2\n",
        "q_randn = th.randn(3,4)\n",
        "print('Value of q: \\n',q_randn)\n",
        "pow_values = th.pow(q_randn,-2)\n",
        "print('Elements of q  after dividing each element by itself raised to the power of 2: \\n',pow_values)"
      ]
    },
    {
      "cell_type": "markdown",
      "metadata": {
        "id": "_sNW2HiCcI6d"
      },
      "source": [
        "In the above example divided each element by itself raised to the power of 2."
      ]
    },
    {
      "cell_type": "code",
      "execution_count": null,
      "metadata": {
        "colab": {
          "base_uri": "https://localhost:8080/",
          "height": 351
        },
        "id": "OaawN0h1cI6e",
        "outputId": "c20e7e62-4d6a-4c8a-f9e7-4c052ba46ed3"
      },
      "outputs": [
        {
          "output_type": "stream",
          "name": "stdout",
          "text": [
            "Value of r: \n",
            " tensor([[ 1.4682, -0.0932,  0.1669, -1.2628, -0.0266],\n",
            "        [-2.7245, -1.6710,  1.0727,  0.9330, -0.8266],\n",
            "        [-0.3095,  1.8426,  0.2650, -0.0924,  0.1694],\n",
            "        [ 0.8069,  0.2475, -1.1516,  1.8029, -1.2293]])\n"
          ]
        },
        {
          "output_type": "error",
          "ename": "TypeError",
          "evalue": "ignored",
          "traceback": [
            "\u001b[0;31m---------------------------------------------------------------------------\u001b[0m",
            "\u001b[0;31mTypeError\u001b[0m                                 Traceback (most recent call last)",
            "\u001b[0;32m<ipython-input-27-cb5ebe018c19>\u001b[0m in \u001b[0;36m<module>\u001b[0;34m()\u001b[0m\n\u001b[1;32m      2\u001b[0m \u001b[0mr_randn\u001b[0m \u001b[0;34m=\u001b[0m \u001b[0mth\u001b[0m\u001b[0;34m.\u001b[0m\u001b[0mrandn\u001b[0m\u001b[0;34m(\u001b[0m\u001b[0;36m4\u001b[0m\u001b[0;34m,\u001b[0m\u001b[0;36m5\u001b[0m\u001b[0;34m)\u001b[0m\u001b[0;34m\u001b[0m\u001b[0;34m\u001b[0m\u001b[0m\n\u001b[1;32m      3\u001b[0m \u001b[0mprint\u001b[0m\u001b[0;34m(\u001b[0m\u001b[0;34m'Value of r: \\n'\u001b[0m\u001b[0;34m,\u001b[0m\u001b[0mr_randn\u001b[0m\u001b[0;34m)\u001b[0m\u001b[0;34m\u001b[0m\u001b[0;34m\u001b[0m\u001b[0m\n\u001b[0;32m----> 4\u001b[0;31m \u001b[0mr_pow\u001b[0m \u001b[0;34m=\u001b[0m \u001b[0mth\u001b[0m\u001b[0;34m.\u001b[0m\u001b[0mpow\u001b[0m\u001b[0;34m(\u001b[0m\u001b[0;34m-\u001b[0m\u001b[0;36m0.98\u001b[0m\u001b[0;34m)\u001b[0m\u001b[0;34m\u001b[0m\u001b[0;34m\u001b[0m\u001b[0m\n\u001b[0m",
            "\u001b[0;31mTypeError\u001b[0m: pow() received an invalid combination of arguments - got (float), but expected one of:\n * (Tensor input, Tensor exponent, *, Tensor out)\n * (Number self, Tensor exponent, *, Tensor out)\n * (Tensor input, Number exponent, *, Tensor out)\n"
          ]
        }
      ],
      "source": [
        "# Example 3 - breaking (to illustrate when it breaks)\n",
        "r_randn = th.randn(4,5)\n",
        "print('Value of r: \\n',r_randn)\n",
        "r_pow = th.pow(-0.98)"
      ]
    },
    {
      "cell_type": "markdown",
      "metadata": {
        "id": "EMPC0Pd4cI6f"
      },
      "source": [
        "The above example breaks beacuse the torch.pow() function requires an argument of the type matrix,number,Tensor etc to process them to that power."
      ]
    },
    {
      "cell_type": "markdown",
      "metadata": {
        "id": "NNfNeYNhcI6h"
      },
      "source": [
        "### Function 4 - torch.round()\n",
        "\n",
        "torch.round(input, out=None)\n",
        "\n",
        "Returns a new tensor with each of the elements of input rounded to the closest integer."
      ]
    },
    {
      "cell_type": "code",
      "execution_count": null,
      "metadata": {
        "colab": {
          "base_uri": "https://localhost:8080/"
        },
        "id": "gspqXQhKcI6i",
        "outputId": "44130a9a-ca3c-4345-da42-ca8a0cc22474"
      },
      "outputs": [
        {
          "output_type": "stream",
          "name": "stdout",
          "text": [
            "m: \n",
            " tensor([-12.2200,  -5.3102,  22.0502,   6.1078,  -1.2981,  -5.1620,   8.6544,\n",
            "         -7.0037,   4.7211,   5.8143])\n",
            "After rounding: \n",
            " tensor([-12.,  -5.,  22.,   6.,  -1.,  -5.,   9.,  -7.,   5.,   6.])\n"
          ]
        }
      ],
      "source": [
        "# Example 1 \n",
        "m_randn = th.randn(10)*10\n",
        "print('m: \\n',m_randn)\n",
        "m_round = th.round(m_randn)\n",
        "print('After rounding: \\n',m_round)"
      ]
    },
    {
      "cell_type": "markdown",
      "metadata": {
        "id": "9-mVmvSOcI6j"
      },
      "source": [
        "In the above example rounded of every element of a 1D matrixm to its closest integer"
      ]
    },
    {
      "cell_type": "code",
      "execution_count": null,
      "metadata": {
        "colab": {
          "base_uri": "https://localhost:8080/"
        },
        "id": "xvTYsL54cI6j",
        "outputId": "7e920767-f194-4b47-e527-8ee5318b14f1"
      },
      "outputs": [
        {
          "output_type": "stream",
          "name": "stdout",
          "text": [
            "n: \n",
            " tensor([[-20.9472,  19.9217,   5.8674, -16.6392,   5.0424],\n",
            "        [-13.5306, -13.1298,  10.7305,  -5.6534,   8.6863],\n",
            "        [  2.5831,  -0.9806,  -4.2670,   1.8648,  23.6868],\n",
            "        [ -5.3758,  14.1453,  -3.1910, -17.5154,  10.1422],\n",
            "        [  2.1253,  -6.0117, -11.9144, -20.3586, -17.7449]])\n",
            "After rounding: \n",
            " tensor([[-21.,  20.,   6., -17.,   5.],\n",
            "        [-14., -13.,  11.,  -6.,   9.],\n",
            "        [  3.,  -1.,  -4.,   2.,  24.],\n",
            "        [ -5.,  14.,  -3., -18.,  10.],\n",
            "        [  2.,  -6., -12., -20., -18.]])\n"
          ]
        }
      ],
      "source": [
        "# Example 2 \n",
        "n_randn = th.randn(5,5)*10\n",
        "print('n: \\n',n_randn)\n",
        "n_round = th.round(n_randn)\n",
        "print('After rounding: \\n',n_round)"
      ]
    },
    {
      "cell_type": "markdown",
      "metadata": {
        "id": "h6aVlgf3cI6k"
      },
      "source": [
        "In the above example rounded all elements of a 2D matrix n to its nearest integer value."
      ]
    },
    {
      "cell_type": "code",
      "execution_count": null,
      "metadata": {
        "colab": {
          "base_uri": "https://localhost:8080/",
          "height": 314
        },
        "id": "QIa_T7BqcI6k",
        "outputId": "9a2647ad-79c6-430f-a697-ccb3fffac27b"
      },
      "outputs": [
        {
          "output_type": "stream",
          "name": "stdout",
          "text": [
            "o: \n",
            " [[6.10299962e-01 1.22991195e-01 7.99393025e-01]\n",
            " [2.25696565e-01 7.93051577e-01 3.12795898e-01]\n",
            " [1.42782713e-01 1.48187371e-01 1.86783141e-01]\n",
            " [5.83238692e-01 3.52520062e-01 2.12293424e-02]\n",
            " [1.52943877e-01 3.71550248e-01 6.03500042e-04]]\n"
          ]
        },
        {
          "output_type": "error",
          "ename": "TypeError",
          "evalue": "ignored",
          "traceback": [
            "\u001b[0;31m---------------------------------------------------------------------------\u001b[0m",
            "\u001b[0;31mTypeError\u001b[0m                                 Traceback (most recent call last)",
            "\u001b[0;32m<ipython-input-32-5f53a9df7fe6>\u001b[0m in \u001b[0;36m<module>\u001b[0;34m()\u001b[0m\n\u001b[1;32m      3\u001b[0m \u001b[0mo_rand\u001b[0m \u001b[0;34m=\u001b[0m \u001b[0mnp\u001b[0m\u001b[0;34m.\u001b[0m\u001b[0mrandom\u001b[0m\u001b[0;34m.\u001b[0m\u001b[0mrand\u001b[0m\u001b[0;34m(\u001b[0m\u001b[0;36m5\u001b[0m\u001b[0;34m,\u001b[0m\u001b[0;36m3\u001b[0m\u001b[0;34m)\u001b[0m\u001b[0;34m\u001b[0m\u001b[0;34m\u001b[0m\u001b[0m\n\u001b[1;32m      4\u001b[0m \u001b[0mprint\u001b[0m\u001b[0;34m(\u001b[0m\u001b[0;34m'o: \\n'\u001b[0m\u001b[0;34m,\u001b[0m\u001b[0mo_rand\u001b[0m\u001b[0;34m)\u001b[0m\u001b[0;34m\u001b[0m\u001b[0;34m\u001b[0m\u001b[0m\n\u001b[0;32m----> 5\u001b[0;31m \u001b[0mo_round\u001b[0m \u001b[0;34m=\u001b[0m \u001b[0mth\u001b[0m\u001b[0;34m.\u001b[0m\u001b[0mround\u001b[0m\u001b[0;34m(\u001b[0m\u001b[0mo_rand\u001b[0m\u001b[0;34m)\u001b[0m\u001b[0;34m\u001b[0m\u001b[0;34m\u001b[0m\u001b[0m\n\u001b[0m",
            "\u001b[0;31mTypeError\u001b[0m: round(): argument 'input' (position 1) must be Tensor, not numpy.ndarray"
          ]
        }
      ],
      "source": [
        "# Example 3 - breaking (to illustrate when it breaks)\n",
        "import numpy as np\n",
        "o_rand = np.random.rand(5,3)\n",
        "print('o: \\n',o_rand)\n",
        "o_round = th.round(o_rand)"
      ]
    },
    {
      "cell_type": "markdown",
      "metadata": {
        "id": "Sgg-kNA2cI6k"
      },
      "source": [
        "The above example breaks because the function torch.round() requires its input to be of the type tensor but the argument to it was provided of the type numpy.ndarray"
      ]
    },
    {
      "cell_type": "markdown",
      "metadata": {
        "id": "KkSY05-ncI6s"
      },
      "source": [
        "### Function 5 - torch.det()\n",
        "\n",
        "torch.det(input) → Tensor\n",
        "\n",
        "Calculates determinant of a square matrix or batches of square matrices."
      ]
    },
    {
      "cell_type": "code",
      "execution_count": null,
      "metadata": {
        "colab": {
          "base_uri": "https://localhost:8080/"
        },
        "id": "IOr_KLWNcI6t",
        "outputId": "9dd769a8-33f3-4c9d-8719-00a57301b2d7"
      },
      "outputs": [
        {
          "output_type": "stream",
          "name": "stdout",
          "text": [
            "g: \n",
            " tensor([[ 0.2617, -1.3215,  1.8579,  0.7513, -0.1217],\n",
            "        [-1.5749,  0.9443, -1.3750, -0.4767, -1.0985],\n",
            "        [-1.6740,  0.1563,  1.6821, -0.9209, -0.4555],\n",
            "        [ 0.2936, -0.8855,  0.0113,  0.1522, -0.8913],\n",
            "        [ 0.3268, -0.3660,  1.5177, -0.5314, -1.0224]])\n",
            "Determinant of g: \n",
            " tensor(-5.2219)\n"
          ]
        }
      ],
      "source": [
        "# Example 1 - working\n",
        "g_det = th.randn(5,5)\n",
        "print('g: \\n',g_det)\n",
        "print('Determinant of g: \\n',th.det(g_det))"
      ]
    },
    {
      "cell_type": "markdown",
      "metadata": {
        "id": "jMGLBeSOcI6u"
      },
      "source": [
        "In the above example calculated the determinant of g matrix."
      ]
    },
    {
      "cell_type": "code",
      "execution_count": null,
      "metadata": {
        "colab": {
          "base_uri": "https://localhost:8080/"
        },
        "id": "e3-DqI5AcI6v",
        "outputId": "cb0da1c2-ece9-4f7c-a038-ac76cbf56c18"
      },
      "outputs": [
        {
          "output_type": "stream",
          "name": "stdout",
          "text": [
            "h: \n",
            " tensor([[[ 0.8791,  0.2284, -0.0107, -0.4914, -0.1269],\n",
            "         [-0.0241, -0.2817,  1.7605, -0.9118, -1.2149],\n",
            "         [ 0.9761,  1.1361, -0.3250,  1.0504, -1.3700],\n",
            "         [-0.1689, -0.7956, -1.2309,  0.3865, -0.4375],\n",
            "         [-1.1455,  2.9759, -2.6746, -0.1407,  1.0568]],\n",
            "\n",
            "        [[-0.0940,  0.1926,  1.6205,  0.2430, -0.6728],\n",
            "         [ 0.8446,  0.4767,  0.5010, -1.8106,  1.0331],\n",
            "         [-0.0576, -0.2928, -0.8433,  0.9258, -0.4223],\n",
            "         [-0.9858,  0.6822, -0.6550,  1.9450, -1.1169],\n",
            "         [ 0.8031, -1.5200, -0.0335,  0.0392,  0.2291]],\n",
            "\n",
            "        [[-0.2684,  0.4801,  0.6369,  0.0797, -0.9501],\n",
            "         [-1.2863, -1.0077,  0.1728, -0.3896, -1.9315],\n",
            "         [-0.8581, -1.0500,  1.4344, -0.8564, -0.8443],\n",
            "         [-0.1503,  2.2748, -1.2517,  1.3491, -0.7643],\n",
            "         [-0.2325,  0.3962, -0.2546, -0.3563,  0.0615]]])\n",
            "Determinant of h: \n",
            " tensor([20.5267, -0.4800,  1.3341])\n"
          ]
        }
      ],
      "source": [
        "# Example 2 - working\n",
        "h_det = th.randn(3,5,5)\n",
        "print('h: \\n',h_det)\n",
        "print('Determinant of h: \\n',th.det(h_det))"
      ]
    },
    {
      "cell_type": "markdown",
      "metadata": {
        "id": "awZMILS0cI6x"
      },
      "source": [
        "In the above example the determinant of 3 2D matrix with the help of torch.det() function."
      ]
    },
    {
      "cell_type": "code",
      "execution_count": null,
      "metadata": {
        "colab": {
          "base_uri": "https://localhost:8080/",
          "height": 260
        },
        "id": "PQRV8mh3cI6x",
        "outputId": "cb519fef-a09f-49ec-ca3e-98564b2d6c38"
      },
      "outputs": [
        {
          "output_type": "stream",
          "name": "stdout",
          "text": [
            "i: \n",
            " tensor([-0.3562, -0.1495, -0.6797, -0.8168, -0.3851,  0.4562,  0.5058,  2.6212,\n",
            "         0.9224,  1.4842])\n"
          ]
        },
        {
          "output_type": "error",
          "ename": "RuntimeError",
          "evalue": "ignored",
          "traceback": [
            "\u001b[0;31m---------------------------------------------------------------------------\u001b[0m",
            "\u001b[0;31mRuntimeError\u001b[0m                              Traceback (most recent call last)",
            "\u001b[0;32m<ipython-input-36-5e88602abc85>\u001b[0m in \u001b[0;36m<module>\u001b[0;34m()\u001b[0m\n\u001b[1;32m      2\u001b[0m \u001b[0mi_det\u001b[0m \u001b[0;34m=\u001b[0m \u001b[0mth\u001b[0m\u001b[0;34m.\u001b[0m\u001b[0mrandn\u001b[0m\u001b[0;34m(\u001b[0m\u001b[0;36m10\u001b[0m\u001b[0;34m)\u001b[0m\u001b[0;34m\u001b[0m\u001b[0;34m\u001b[0m\u001b[0m\n\u001b[1;32m      3\u001b[0m \u001b[0mprint\u001b[0m\u001b[0;34m(\u001b[0m\u001b[0;34m'i: \\n'\u001b[0m\u001b[0;34m,\u001b[0m\u001b[0mi_det\u001b[0m\u001b[0;34m)\u001b[0m\u001b[0;34m\u001b[0m\u001b[0;34m\u001b[0m\u001b[0m\n\u001b[0;32m----> 4\u001b[0;31m \u001b[0mprint\u001b[0m\u001b[0;34m(\u001b[0m\u001b[0;34m'Determinant of i: \\n'\u001b[0m\u001b[0;34m,\u001b[0m\u001b[0mth\u001b[0m\u001b[0;34m.\u001b[0m\u001b[0mdet\u001b[0m\u001b[0;34m(\u001b[0m\u001b[0mi_det\u001b[0m\u001b[0;34m)\u001b[0m\u001b[0;34m)\u001b[0m\u001b[0;34m\u001b[0m\u001b[0;34m\u001b[0m\u001b[0m\n\u001b[0m",
            "\u001b[0;31mRuntimeError\u001b[0m: Tensor of matrices must have at least 2 dimensions. "
          ]
        }
      ],
      "source": [
        "# Example 3 - breaking (to illustrate when it breaks)\n",
        "i_det = th.randn(10)\n",
        "print('i: \\n',i_det)\n",
        "print('Determinant of i: \\n',th.det(i_det))"
      ]
    },
    {
      "cell_type": "markdown",
      "metadata": {
        "id": "zyzHjZxQcI6y"
      },
      "source": [
        "The above example fails because determinant can only be found for matrices greater than 1D."
      ]
    }
  ],
  "metadata": {
    "kernelspec": {
      "display_name": "Python 3",
      "language": "python",
      "name": "python3"
    },
    "language_info": {
      "codemirror_mode": {
        "name": "ipython",
        "version": 3
      },
      "file_extension": ".py",
      "mimetype": "text/x-python",
      "name": "python",
      "nbconvert_exporter": "python",
      "pygments_lexer": "ipython3",
      "version": "3.8.5"
    },
    "colab": {
      "name": "01_Assignment_tensoroperations.ipynb",
      "provenance": [],
      "collapsed_sections": [],
      "include_colab_link": true
    }
  },
  "nbformat": 4,
  "nbformat_minor": 0
}